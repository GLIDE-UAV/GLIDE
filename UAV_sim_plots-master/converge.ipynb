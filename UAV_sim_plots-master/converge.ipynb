{
 "cells": [
  {
   "cell_type": "code",
   "execution_count": 1,
   "id": "2b9ca49b",
   "metadata": {},
   "outputs": [],
   "source": [
    "import glob\n",
    "import pickle\n",
    "import numpy as np\n",
    "import pandas as pd\n",
    "import seaborn as sns\n",
    "import matplotlib.pyplot as plt\n",
    "import matplotlib.ticker as ticker\n",
    "plt.style.use(\"seaborn-white\")\n",
    "colors=sns.color_palette('deep')"
   ]
  },
  {
   "cell_type": "code",
   "execution_count": 2,
   "id": "97ebc983",
   "metadata": {},
   "outputs": [],
   "source": [
    "def getfiles(exp_name):\n",
    "    dis_f=glob.glob(f\"./logs/tbd/*{exp_name}_#*\")[0]\n",
    "    cent_f=glob.glob(f\"./logs/tbd/*{exp_name}_c*\")[0]\n",
    "    return {'dis':dis_f,'cent':cent_f}"
   ]
  },
  {
   "cell_type": "code",
   "execution_count": 3,
   "id": "109b1d1c",
   "metadata": {},
   "outputs": [],
   "source": [
    "def plot_experiment_convergence(exp_name,yliml=None,ylimh=None):\n",
    "    files=getfiles(exp_name)\n",
    "\n",
    "    df1=pd.read_csv(files['dis'])\n",
    "    df2=pd.read_csv(files['cent'])\n",
    "\n",
    "    fig=plt.figure(figsize=(7,5))\n",
    "    ax=fig.add_subplot(111)\n",
    "\n",
    "    ax.plot(df1[\"Step\"],df1[\"Value\"].rolling(10).mean(),linewidth=3,\n",
    "            c=colors[0],label=\"D-GLIDE\")\n",
    "    ax.fill_between(df1[\"Step\"],df1[\"Value\"].rolling(10).mean()-df1[\"Value\"].rolling(10).std(),\n",
    "                   df1[\"Value\"].rolling(10).mean()+df1[\"Value\"].rolling(10).std(),alpha=0.2,color=colors[0])\n",
    "    \n",
    "    ax.plot(df2[\"Step\"],df2[\"Value\"].rolling(10).mean(),linewidth=3,linestyle='--',\n",
    "            c=colors[1],label=\"C-GLIDE\")\n",
    "    ax.fill_between(df2[\"Step\"],df2[\"Value\"].rolling(10).mean()-df2[\"Value\"].rolling(10).std(),\n",
    "                   df2[\"Value\"].rolling(10).mean()+df2[\"Value\"].rolling(10).std(),alpha=0.2,color=colors[1])\n",
    "\n",
    "\n",
    "    ax.set_xlim(0,25e6)\n",
    "    ax.set_ylim(yliml,ylimh)\n",
    "    scale_x = 1e6\n",
    "    ticks_x = ticker.FuncFormatter(lambda x, pos: '{0:g}'.format(x/scale_x))\n",
    "    ax.xaxis.set_major_formatter(ticks_x)\n",
    "\n",
    "    plt.xlabel(\"Time slots (M)\",fontsize=22)\n",
    "    plt.ylabel(\"Reward\",fontsize=22)\n",
    "\n",
    "    plt.yticks(fontsize=18)\n",
    "    plt.xticks(fontsize=18)\n",
    "    ax.legend(loc=\"lower right\",fontsize=22)\n",
    "    ax.grid()\n",
    "    \n",
    "    plt.tight_layout()\n",
    "    plt.close()\n",
    "    return fig"
   ]
  },
  {
   "cell_type": "code",
   "execution_count": 4,
   "id": "230774d6",
   "metadata": {},
   "outputs": [],
   "source": [
    "plot_experiment_convergence('mine1',-80,0).savefig(\"./logs/converge/mine1.pdf\")\n",
    "plot_experiment_convergence('mine6').savefig(\"./logs/converge/mine6.pdf\")\n",
    "\n",
    "plot_experiment_convergence('target1',-70,0).savefig(\"./logs/converge/target1.pdf\")\n",
    "plot_experiment_convergence('target6').savefig(\"./logs/converge/target6.pdf\")\n",
    "\n",
    "plot_experiment_convergence('uav1').savefig(\"./logs/converge/uav1.pdf\")\n",
    "plot_experiment_convergence('uav6',-80,0).savefig(\"./logs/converge/uav6.pdf\")"
   ]
  },
  {
   "cell_type": "code",
   "execution_count": 5,
   "id": "b3949eac",
   "metadata": {},
   "outputs": [],
   "source": [
    "#NICE"
   ]
  },
  {
   "cell_type": "code",
   "execution_count": 2,
   "id": "cd451947",
   "metadata": {},
   "outputs": [],
   "source": [
    "with open('./logs/dump/res.pkl', 'rb') as handle:\n",
    "    res = pickle.load(handle)"
   ]
  },
  {
   "cell_type": "code",
   "execution_count": 3,
   "id": "08e366d3",
   "metadata": {},
   "outputs": [],
   "source": [
    "dis=\\\n",
    "[res['uav1_dis']['reward'],\n",
    " res['uav2_dis']['reward'],\n",
    " res['uav3_dis']['reward'],\n",
    " res['default_exp_dis']['reward'],\n",
    " res['uav5_dis']['reward']]\n",
    "\n",
    "cent=\\\n",
    "[res['uav1_cent']['reward'],\n",
    " res['uav2_cent']['reward'],\n",
    " res['uav3_cent']['reward'],\n",
    " res['default_exp_cent']['reward'],\n",
    " res['uav5_cent']['reward']]"
   ]
  },
  {
   "cell_type": "code",
   "execution_count": 17,
   "id": "752ac2b3",
   "metadata": {},
   "outputs": [
    {
     "data": {
      "image/png": "[encoded data removed]",
      "text/plain": [
       "<Figure size 432x288 with 1 Axes>"
      ]
     },
     "metadata": {},
     "output_type": "display_data"
    }
   ],
   "source": [
    "w=0.5\n",
    "pos=np.array([1,3,5,7,9])\n",
    "\n",
    "plt.bar(x=pos,height=[np.mean(h) for h in dis],yerr=[np.std(h) for h in dis],width=w)\n",
    "plt.bar(x=pos+0.5,height=[np.mean(h) for h in cent],yerr=[np.std(h) for h in cent],width=w)\n",
    "\n",
    "# plt.boxplot(positions=pos,x=dis,widths=0.5)\n",
    "# plt.boxplot(positions=pos+0.5,x=cent,widths=0.5)\n",
    "plt.show()"
   ]
  },
  {
   "cell_type": "code",
   "execution_count": null,
   "id": "c3326d3a",
   "metadata": {},
   "outputs": [],
   "source": []
  }
 ],
 "metadata": {
  "interpreter": {
   "hash": "e47b1a34c05c1e3b83a62d7885c9d1b5ef8a0522d3be0182d0a008ec409b2b3d"
  },
  "kernelspec": {
   "display_name": "Python 3.8.12 64-bit ('myenv': conda)",
   "language": "python",
   "name": "python3"
  },
  "language_info": {
   "codemirror_mode": {
    "name": "ipython",
    "version": 3
   },
   "file_extension": ".py",
   "mimetype": "text/x-python",
   "name": "python",
   "nbconvert_exporter": "python",
   "pygments_lexer": "ipython3",
   "version": "3.8.12"
  }
 },
 "nbformat": 4,
 "nbformat_minor": 5
}
